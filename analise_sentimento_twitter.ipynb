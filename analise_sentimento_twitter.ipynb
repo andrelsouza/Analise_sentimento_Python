{
  "nbformat": 4,
  "nbformat_minor": 0,
  "metadata": {
    "colab": {
      "name": "analise_sentimento_twitter.ipynb",
      "provenance": [],
      "collapsed_sections": [],
      "authorship_tag": "ABX9TyN+4k2DGFMYOCqZsL7svc98",
      "include_colab_link": true
    },
    "kernelspec": {
      "name": "python3",
      "display_name": "Python 3"
    },
    "language_info": {
      "name": "python"
    }
  },
  "cells": [
    {
      "cell_type": "markdown",
      "metadata": {
        "id": "view-in-github",
        "colab_type": "text"
      },
      "source": [
        "<a href=\"https://colab.research.google.com/github/andrelsouza/Analise_sentimento_Python/blob/main/analise_sentimento_twitter.ipynb\" target=\"_parent\"><img src=\"https://colab.research.google.com/assets/colab-badge.svg\" alt=\"Open In Colab\"/></a>"
      ]
    },
    {
      "cell_type": "code",
      "metadata": {
        "colab": {
          "base_uri": "https://localhost:8080/"
        },
        "id": "iNCQJiEhJxao",
        "outputId": "0765b2d6-ffed-4369-9118-a7257c52204f"
      },
      "source": [
        "# Basic Imports\n",
        "import tweepy\n",
        "import pandas as pd     \n",
        "import numpy as np \n",
        "import time\n",
        "import os\n",
        "import re\n",
        "from bs4 import BeautifulSoup\n",
        "\n",
        "# Plotting and Visualization\n",
        "from IPython.display import display\n",
        "import matplotlib.pyplot as plt\n",
        "import seaborn as sns\n",
        "from wordcloud import WordCloud, ImageColorGenerator, STOPWORDS\n",
        "%matplotlib inline\n",
        "\n",
        "# TextBlob Imports\n",
        "from textblob import TextBlob\n",
        "from textblob import TextBlob\n",
        "from textblob.classifiers import NaiveBayesClassifier\n",
        "\n",
        "# NLTK Imports\n",
        "import nltk\n",
        "nltk.download('stopwords')\n",
        "nltk.download('rslp')\n",
        "nltk.download('punkt')\n",
        "nltk.download('wordnet')\n",
        "from sklearn.feature_extraction.text import CountVectorizer\n",
        "from sklearn.naive_bayes import MultinomialNB\n",
        "from nltk.stem import WordNetLemmatizer\n",
        "wordnet_lemmatizer = WordNetLemmatizer()\n",
        "\n",
        "#MAP\n",
        "from geopy.geocoders import Nominatim\n",
        "import folium\n",
        "from folium import plugins\n",
        "from geopy.geocoders import Nominatim"
      ],
      "execution_count": null,
      "outputs": [
        {
          "output_type": "stream",
          "text": [
            "[nltk_data] Downloading package stopwords to /root/nltk_data...\n",
            "[nltk_data]   Package stopwords is already up-to-date!\n",
            "[nltk_data] Downloading package rslp to /root/nltk_data...\n",
            "[nltk_data]   Package rslp is already up-to-date!\n",
            "[nltk_data] Downloading package punkt to /root/nltk_data...\n",
            "[nltk_data]   Package punkt is already up-to-date!\n",
            "[nltk_data] Downloading package wordnet to /root/nltk_data...\n",
            "[nltk_data]   Package wordnet is already up-to-date!\n"
          ],
          "name": "stdout"
        }
      ]
    },
    {
      "cell_type": "markdown",
      "metadata": {
        "id": "jIcOufzsr1jY"
      },
      "source": [
        "Funções de Pré Processamento dos dados do Twitter\n"
      ]
    },
    {
      "cell_type": "code",
      "metadata": {
        "id": "BAG79FyRrTHe"
      },
      "source": [
        "def RemoveStopWords(instancia):\n",
        "    stopwords = set(nltk.corpus.stopwords.words('portuguese'))\n",
        "    palavras = [i for i in instancia.split() if not i in stopwords]\n",
        "    return (\" \".join(palavras))\n",
        "\n",
        "def Stemming(instancia):\n",
        "    stemmer = nltk.stem.RSLPStemmer()\n",
        "    palavras = []\n",
        "    for w in instancia.split():\n",
        "        palavras.append(stemmer.stem(w))\n",
        "    return (\" \".join(palavras))\n",
        "\n",
        "def Limpeza_dados(instancia):\n",
        "    # remove links, pontos, virgulas,ponto e virgulas dos tweets\n",
        "    instancia = re.sub(r\"http\\S+\", \"\", instancia).lower().replace('.','').replace(';','').replace('-','').replace(':','').replace(')','')\n",
        "    return (instancia)\n",
        "\n",
        "\n",
        "\n",
        "def Lemmatization(instancia):\n",
        "  palavras = []\n",
        "  for w in instancia.split():\n",
        "    palavras.append(wordnet_lemmatizer.lemmatize(w))\n",
        "  return (\" \".join(palavras))\n",
        "\n",
        "\n",
        "def prep_tweets(tweet):\n",
        "  tweet = BeautifulSoup(tweet,\"html.parse\").get_text()\n",
        "  tweet = re.sub(r\"[^a-zA-Zà-úÀ-Ú0-9]\",\"\",tweet.lower())\n",
        "  return tweet\n"
      ],
      "execution_count": null,
      "outputs": []
    },
    {
      "cell_type": "code",
      "metadata": {
        "id": "ZX0efvVR6FmB"
      },
      "source": [
        ""
      ],
      "execution_count": null,
      "outputs": []
    },
    {
      "cell_type": "code",
      "metadata": {
        "id": "TBqYPmX-KFt-"
      },
      "source": [
        "chave_consumidor = 'vw9csY2Gwn5w9AKLUXL75c564'\n",
        "segredo_consumidor = 'jrNk8I20UXh47FU7xp0Gwd7d8iNbFyj6qdgAJ0i0Kx8BO32zAh'\n",
        "token_acesso = '178875463-RidHkuh3f8PQjAsCd9yjKcegzBnGxVr4ALLWipOJ'\n",
        "token_acesso_segredo = 'sNND5cMURtRMiT5acxfIvmquvlPdx5t3EE4ZIgkqYLkP7'"
      ],
      "execution_count": null,
      "outputs": []
    },
    {
      "cell_type": "code",
      "metadata": {
        "id": "zmmS5qexKFml"
      },
      "source": [
        "auth = tweepy.OAuthHandler(chave_consumidor,segredo_consumidor)\n",
        "auth.set_access_token(token_acesso,token_acesso_segredo)\n",
        "api = tweepy.API(auth)"
      ],
      "execution_count": null,
      "outputs": []
    },
    {
      "cell_type": "code",
      "metadata": {
        "id": "mkuckqZsQDgg"
      },
      "source": [
        "search_word = ['enfermagem']"
      ],
      "execution_count": null,
      "outputs": []
    },
    {
      "cell_type": "code",
      "metadata": {
        "id": "QgBFHAhGKFxZ"
      },
      "source": [
        "tweets = []\n",
        "info = []\n",
        "\n",
        "for tweet in tweepy.Cursor(api.search,\n",
        "                           q=search_word,\n",
        "                           tweet_mode='extended',\n",
        "                           rpp=1000,\n",
        "                           result_type=\"popular\",\n",
        "                           include_entities=True,\n",
        "                           lang=\"pt\").items(20000):\n",
        "    if 'retweeted_status' in dir(tweet):\n",
        "        aux=tweet.retweeted_status.full_text\n",
        "    else:\n",
        "        aux=tweet.full_text\n",
        "        \n",
        "    newtweet = aux.replace(\"\\n\", \" \")\n",
        "   \n",
        "    tweets.append(newtweet)\n",
        "    info.append(tweet)\n",
        "    \n",
        "    file = open(\"enfermagem.txt\", \"a\", -1, \"utf-8\")\n",
        "    file.write(newtweet+'\\n')\n",
        "    file.close()\n",
        "    \n",
        "    time.sleep(0.5)"
      ],
      "execution_count": null,
      "outputs": []
    },
    {
      "cell_type": "code",
      "metadata": {
        "id": "01tWsPdZvRme"
      },
      "source": [
        "def Preprocessing(instancia):\n",
        "    instancia = re.sub(r\"http\\S+\", \"\", instancia).lower().replace('.','').replace(';','').replace('-','').replace(':','').replace(')','')\n",
        "    stopwords = set(nltk.corpus.stopwords.words('portuguese'))\n",
        "    palavras = [i for i in instancia.split() if not i in stopwords]\n",
        "    return (\" \".join(palavras))\n",
        "\n"
      ],
      "execution_count": null,
      "outputs": []
    },
    {
      "cell_type": "code",
      "metadata": {
        "id": "m_lRFvpTKFz6"
      },
      "source": [
        "#Construction of the dataframe\n",
        "tweets_df = pd.DataFrame(tweets, columns=['Tweets']) \n",
        "\n",
        "tweets_df['len']  = np.array([len(tweet) for tweet in tweets])\n",
        "tweets_df['ID']   = np.array([tweet.id for tweet in info])\n",
        "tweets_df['Date'] = np.array([tweet.created_at for tweet in info])\n",
        "tweets_df['Source'] = np.array([tweet.source for tweet in info])\n",
        "tweets_df['Likes']  = np.array([tweet.favorite_count for tweet in info])\n",
        "tweets_df['RTs']    = np.array([tweet.retweet_count for tweet in info])\n",
        "tweets_df['User Location']    = np.array([tweet.user.location for tweet in info])\n",
        "tweets_df['Geo']    = np.array([tweet.geo for tweet in info])\n",
        "tweets_df['Coordinates']    = np.array([tweet.coordinates for tweet in info])\n",
        "\n",
        "tweets_df.to_csv(\"enfermeiros.csv\")"
      ],
      "execution_count": null,
      "outputs": []
    },
    {
      "cell_type": "code",
      "metadata": {
        "colab": {
          "base_uri": "https://localhost:8080/"
        },
        "id": "FzyfFLnEKF2d",
        "outputId": "a86311ac-d306-4190-b8f2-d0b8ea953871"
      },
      "source": [
        "tweets_df.shape"
      ],
      "execution_count": null,
      "outputs": [
        {
          "output_type": "execute_result",
          "data": {
            "text/plain": [
              "(15, 10)"
            ]
          },
          "metadata": {
            "tags": []
          },
          "execution_count": 182
        }
      ]
    },
    {
      "cell_type": "code",
      "metadata": {
        "colab": {
          "base_uri": "https://localhost:8080/",
          "height": 514
        },
        "id": "NpMpEdstKF5H",
        "outputId": "6ac2376a-4fbf-4126-9b26-e20f728aa84c"
      },
      "source": [
        "tweets_df\n"
      ],
      "execution_count": null,
      "outputs": [
        {
          "output_type": "execute_result",
          "data": {
            "text/html": [
              "<div>\n",
              "<style scoped>\n",
              "    .dataframe tbody tr th:only-of-type {\n",
              "        vertical-align: middle;\n",
              "    }\n",
              "\n",
              "    .dataframe tbody tr th {\n",
              "        vertical-align: top;\n",
              "    }\n",
              "\n",
              "    .dataframe thead th {\n",
              "        text-align: right;\n",
              "    }\n",
              "</style>\n",
              "<table border=\"1\" class=\"dataframe\">\n",
              "  <thead>\n",
              "    <tr style=\"text-align: right;\">\n",
              "      <th></th>\n",
              "      <th>Tweets</th>\n",
              "      <th>len</th>\n",
              "      <th>ID</th>\n",
              "      <th>Date</th>\n",
              "      <th>Source</th>\n",
              "      <th>Likes</th>\n",
              "      <th>RTs</th>\n",
              "      <th>User Location</th>\n",
              "      <th>Geo</th>\n",
              "      <th>Coordinates</th>\n",
              "    </tr>\n",
              "  </thead>\n",
              "  <tbody>\n",
              "    <tr>\n",
              "      <th>0</th>\n",
              "      <td>A estudante Thais Carvalho está no último ano ...</td>\n",
              "      <td>168</td>\n",
              "      <td>1395343421531992066</td>\n",
              "      <td>2021-05-20 11:39:30</td>\n",
              "      <td>Twitter Web App</td>\n",
              "      <td>2269</td>\n",
              "      <td>463</td>\n",
              "      <td>Brasil</td>\n",
              "      <td>None</td>\n",
              "      <td>None</td>\n",
              "    </tr>\n",
              "    <tr>\n",
              "      <th>1</th>\n",
              "      <td>Recentemente, a possibilidade de fechamento do...</td>\n",
              "      <td>300</td>\n",
              "      <td>1396570546867998725</td>\n",
              "      <td>2021-05-23 20:55:40</td>\n",
              "      <td>Twitter for iPhone</td>\n",
              "      <td>703</td>\n",
              "      <td>26</td>\n",
              "      <td>Amapá, Brasil</td>\n",
              "      <td>None</td>\n",
              "      <td>None</td>\n",
              "    </tr>\n",
              "    <tr>\n",
              "      <th>2</th>\n",
              "      <td>Os heróis da enfermagem precisam de reconhecim...</td>\n",
              "      <td>299</td>\n",
              "      <td>1394634725889875975</td>\n",
              "      <td>2021-05-18 12:43:24</td>\n",
              "      <td>Twitter for Android</td>\n",
              "      <td>532</td>\n",
              "      <td>96</td>\n",
              "      <td>Vila Velha, Brasil</td>\n",
              "      <td>None</td>\n",
              "      <td>None</td>\n",
              "    </tr>\n",
              "    <tr>\n",
              "      <th>3</th>\n",
              "      <td>Hoje é o Dia Nacional do Técnico e Auxiliar de...</td>\n",
              "      <td>291</td>\n",
              "      <td>1395466428409651202</td>\n",
              "      <td>2021-05-20 19:48:17</td>\n",
              "      <td>Twitter Web App</td>\n",
              "      <td>299</td>\n",
              "      <td>58</td>\n",
              "      <td>Brasil, Brasília</td>\n",
              "      <td>None</td>\n",
              "      <td>None</td>\n",
              "    </tr>\n",
              "    <tr>\n",
              "      <th>4</th>\n",
              "      <td>Conseguimos o apoio dos senadores p/ votar em ...</td>\n",
              "      <td>274</td>\n",
              "      <td>1394634129854058497</td>\n",
              "      <td>2021-05-18 12:41:02</td>\n",
              "      <td>Twitter Web App</td>\n",
              "      <td>739</td>\n",
              "      <td>71</td>\n",
              "      <td>Vila Velha, Brasil</td>\n",
              "      <td>None</td>\n",
              "      <td>None</td>\n",
              "    </tr>\n",
              "    <tr>\n",
              "      <th>5</th>\n",
              "      <td>Discurso de heróis e heroínas da saúde não gar...</td>\n",
              "      <td>234</td>\n",
              "      <td>1396167296930963460</td>\n",
              "      <td>2021-05-22 18:13:17</td>\n",
              "      <td>Twitter for Android</td>\n",
              "      <td>283</td>\n",
              "      <td>49</td>\n",
              "      <td>Porto Alegre</td>\n",
              "      <td>None</td>\n",
              "      <td>None</td>\n",
              "    </tr>\n",
              "    <tr>\n",
              "      <th>6</th>\n",
              "      <td>Presidente Rodrigo Pacheco, não seja um inimig...</td>\n",
              "      <td>191</td>\n",
              "      <td>1395419432055410695</td>\n",
              "      <td>2021-05-20 16:41:32</td>\n",
              "      <td>Twitter for iPhone</td>\n",
              "      <td>242</td>\n",
              "      <td>63</td>\n",
              "      <td>Recife - PE</td>\n",
              "      <td>None</td>\n",
              "      <td>None</td>\n",
              "    </tr>\n",
              "    <tr>\n",
              "      <th>7</th>\n",
              "      <td>Estamos vacinando, nesta terça (18), profissio...</td>\n",
              "      <td>274</td>\n",
              "      <td>1394628703229992960</td>\n",
              "      <td>2021-05-18 12:19:28</td>\n",
              "      <td>Twitter Web App</td>\n",
              "      <td>386</td>\n",
              "      <td>43</td>\n",
              "      <td>Belém, Pará, Brasil</td>\n",
              "      <td>None</td>\n",
              "      <td>None</td>\n",
              "    </tr>\n",
              "    <tr>\n",
              "      <th>8</th>\n",
              "      <td>Na manhã deste sábado, recebi o presidente do ...</td>\n",
              "      <td>257</td>\n",
              "      <td>1396190487573303299</td>\n",
              "      <td>2021-05-22 19:45:26</td>\n",
              "      <td>Twitter for iPhone</td>\n",
              "      <td>376</td>\n",
              "      <td>20</td>\n",
              "      <td>Amazonas, Brasil</td>\n",
              "      <td>None</td>\n",
              "      <td>None</td>\n",
              "    </tr>\n",
              "    <tr>\n",
              "      <th>9</th>\n",
              "      <td>Técnica em enfermagem atravessa rio em cocheir...</td>\n",
              "      <td>161</td>\n",
              "      <td>1396244985754779650</td>\n",
              "      <td>2021-05-22 23:22:00</td>\n",
              "      <td>TweetDeck</td>\n",
              "      <td>191</td>\n",
              "      <td>20</td>\n",
              "      <td>Teresina - Piauí</td>\n",
              "      <td>None</td>\n",
              "      <td>None</td>\n",
              "    </tr>\n",
              "    <tr>\n",
              "      <th>10</th>\n",
              "      <td>Na próxima segunda-feira, dia 24, a partir de ...</td>\n",
              "      <td>302</td>\n",
              "      <td>1395757404466434049</td>\n",
              "      <td>2021-05-21 15:04:31</td>\n",
              "      <td>Twitter for Android</td>\n",
              "      <td>273</td>\n",
              "      <td>26</td>\n",
              "      <td>Vila Velha, Brasil</td>\n",
              "      <td>None</td>\n",
              "      <td>None</td>\n",
              "    </tr>\n",
              "    <tr>\n",
              "      <th>11</th>\n",
              "      <td>Toda nossa gratidão aos profissionais da saúde...</td>\n",
              "      <td>180</td>\n",
              "      <td>1395450622472859651</td>\n",
              "      <td>2021-05-20 18:45:29</td>\n",
              "      <td>Twitter for Android</td>\n",
              "      <td>149</td>\n",
              "      <td>21</td>\n",
              "      <td>Aracaju SE</td>\n",
              "      <td>None</td>\n",
              "      <td>None</td>\n",
              "    </tr>\n",
              "    <tr>\n",
              "      <th>12</th>\n",
              "      <td>Homem se recusa a receber vacina contra covid ...</td>\n",
              "      <td>287</td>\n",
              "      <td>1395491760541929474</td>\n",
              "      <td>2021-05-20 21:28:57</td>\n",
              "      <td>Twitter Media Studio</td>\n",
              "      <td>109</td>\n",
              "      <td>16</td>\n",
              "      <td>Brasil</td>\n",
              "      <td>None</td>\n",
              "      <td>None</td>\n",
              "    </tr>\n",
              "    <tr>\n",
              "      <th>13</th>\n",
              "      <td>Hoje estive na carreata pela aprovação do piso...</td>\n",
              "      <td>304</td>\n",
              "      <td>1396189720078475266</td>\n",
              "      <td>2021-05-22 19:42:23</td>\n",
              "      <td>Twitter for Android</td>\n",
              "      <td>190</td>\n",
              "      <td>19</td>\n",
              "      <td>Porto Alegre</td>\n",
              "      <td>None</td>\n",
              "      <td>None</td>\n",
              "    </tr>\n",
              "    <tr>\n",
              "      <th>14</th>\n",
              "      <td>O movimento #ValorizeAEnfermagem passou por tr...</td>\n",
              "      <td>302</td>\n",
              "      <td>1395539011498921990</td>\n",
              "      <td>2021-05-21 00:36:42</td>\n",
              "      <td>Twitter Media Studio</td>\n",
              "      <td>55</td>\n",
              "      <td>21</td>\n",
              "      <td>Brasília, Brasil</td>\n",
              "      <td>None</td>\n",
              "      <td>None</td>\n",
              "    </tr>\n",
              "  </tbody>\n",
              "</table>\n",
              "</div>"
            ],
            "text/plain": [
              "                                               Tweets  len  ...   Geo Coordinates\n",
              "0   A estudante Thais Carvalho está no último ano ...  168  ...  None        None\n",
              "1   Recentemente, a possibilidade de fechamento do...  300  ...  None        None\n",
              "2   Os heróis da enfermagem precisam de reconhecim...  299  ...  None        None\n",
              "3   Hoje é o Dia Nacional do Técnico e Auxiliar de...  291  ...  None        None\n",
              "4   Conseguimos o apoio dos senadores p/ votar em ...  274  ...  None        None\n",
              "5   Discurso de heróis e heroínas da saúde não gar...  234  ...  None        None\n",
              "6   Presidente Rodrigo Pacheco, não seja um inimig...  191  ...  None        None\n",
              "7   Estamos vacinando, nesta terça (18), profissio...  274  ...  None        None\n",
              "8   Na manhã deste sábado, recebi o presidente do ...  257  ...  None        None\n",
              "9   Técnica em enfermagem atravessa rio em cocheir...  161  ...  None        None\n",
              "10  Na próxima segunda-feira, dia 24, a partir de ...  302  ...  None        None\n",
              "11  Toda nossa gratidão aos profissionais da saúde...  180  ...  None        None\n",
              "12  Homem se recusa a receber vacina contra covid ...  287  ...  None        None\n",
              "13  Hoje estive na carreata pela aprovação do piso...  304  ...  None        None\n",
              "14  O movimento #ValorizeAEnfermagem passou por tr...  302  ...  None        None\n",
              "\n",
              "[15 rows x 10 columns]"
            ]
          },
          "metadata": {
            "tags": []
          },
          "execution_count": 183
        }
      ]
    },
    {
      "cell_type": "code",
      "metadata": {
        "id": "aokuLYchvVHl"
      },
      "source": [
        "# Aplica a função em todos os dados:\n",
        "tweets = [Preprocessing(i) for i in tweets]"
      ],
      "execution_count": null,
      "outputs": []
    },
    {
      "cell_type": "code",
      "metadata": {
        "id": "0wHdG18PKF7p"
      },
      "source": [
        "tweets_tokenized = [tweet_tokenizer.tokenize(Tweets) for Tweets in tweets_df]"
      ],
      "execution_count": null,
      "outputs": []
    },
    {
      "cell_type": "code",
      "metadata": {
        "colab": {
          "base_uri": "https://localhost:8080/"
        },
        "id": "VVUAERI2KF-Q",
        "outputId": "34929a65-dec7-4b69-c405-11d3ead885d4"
      },
      "source": [
        "tweets[:2]"
      ],
      "execution_count": null,
      "outputs": [
        {
          "output_type": "execute_result",
          "data": {
            "text/plain": [
              "['estudante thais carvalho último ano enfermagem atua voluntária campanha vacinação \"fiquei estado choque\", disse',\n",
              " 'recentemente, possibilidade fechamento cursos direito enfermagem campus binacional unifap mobilizou oiapoque além garantir recursos bancada federal p/ manutenção campus, colocamos individualmente r$ 1,2 milhão p/ construção novo bloco']"
            ]
          },
          "metadata": {
            "tags": []
          },
          "execution_count": 138
        }
      ]
    },
    {
      "cell_type": "code",
      "metadata": {
        "id": "WasRu8T-KGA3"
      },
      "source": [
        "tweets_df[\"tweets_ajustados\"] = tweets"
      ],
      "execution_count": null,
      "outputs": []
    },
    {
      "cell_type": "code",
      "metadata": {
        "colab": {
          "base_uri": "https://localhost:8080/",
          "height": 289
        },
        "id": "fWvcefhRKGDh",
        "outputId": "520644dd-0055-4df6-aa2a-fb0bef203615"
      },
      "source": [
        "tweets_df.head()"
      ],
      "execution_count": null,
      "outputs": [
        {
          "output_type": "execute_result",
          "data": {
            "text/html": [
              "<div>\n",
              "<style scoped>\n",
              "    .dataframe tbody tr th:only-of-type {\n",
              "        vertical-align: middle;\n",
              "    }\n",
              "\n",
              "    .dataframe tbody tr th {\n",
              "        vertical-align: top;\n",
              "    }\n",
              "\n",
              "    .dataframe thead th {\n",
              "        text-align: right;\n",
              "    }\n",
              "</style>\n",
              "<table border=\"1\" class=\"dataframe\">\n",
              "  <thead>\n",
              "    <tr style=\"text-align: right;\">\n",
              "      <th></th>\n",
              "      <th>Tweets</th>\n",
              "      <th>len</th>\n",
              "      <th>ID</th>\n",
              "      <th>Date</th>\n",
              "      <th>Source</th>\n",
              "      <th>Likes</th>\n",
              "      <th>RTs</th>\n",
              "      <th>User Location</th>\n",
              "      <th>Geo</th>\n",
              "      <th>Coordinates</th>\n",
              "      <th>tweets_ajustados</th>\n",
              "    </tr>\n",
              "  </thead>\n",
              "  <tbody>\n",
              "    <tr>\n",
              "      <th>0</th>\n",
              "      <td>A estudante Thais Carvalho está no último ano ...</td>\n",
              "      <td>168</td>\n",
              "      <td>1395343421531992066</td>\n",
              "      <td>2021-05-20 11:39:30</td>\n",
              "      <td>Twitter Web App</td>\n",
              "      <td>2269</td>\n",
              "      <td>463</td>\n",
              "      <td>Brasil</td>\n",
              "      <td>None</td>\n",
              "      <td>None</td>\n",
              "      <td>estudante thais carvalho último ano enfermagem...</td>\n",
              "    </tr>\n",
              "    <tr>\n",
              "      <th>1</th>\n",
              "      <td>Recentemente, a possibilidade de fechamento do...</td>\n",
              "      <td>300</td>\n",
              "      <td>1396570546867998725</td>\n",
              "      <td>2021-05-23 20:55:40</td>\n",
              "      <td>Twitter for iPhone</td>\n",
              "      <td>701</td>\n",
              "      <td>26</td>\n",
              "      <td>Amapá, Brasil</td>\n",
              "      <td>None</td>\n",
              "      <td>None</td>\n",
              "      <td>recentemente, possibilidade fechamento cursos ...</td>\n",
              "    </tr>\n",
              "    <tr>\n",
              "      <th>2</th>\n",
              "      <td>Os heróis da enfermagem precisam de reconhecim...</td>\n",
              "      <td>299</td>\n",
              "      <td>1394634725889875975</td>\n",
              "      <td>2021-05-18 12:43:24</td>\n",
              "      <td>Twitter for Android</td>\n",
              "      <td>532</td>\n",
              "      <td>96</td>\n",
              "      <td>Vila Velha, Brasil</td>\n",
              "      <td>None</td>\n",
              "      <td>None</td>\n",
              "      <td>heróis enfermagem precisam reconhecimento! hoj...</td>\n",
              "    </tr>\n",
              "    <tr>\n",
              "      <th>3</th>\n",
              "      <td>Hoje é o Dia Nacional do Técnico e Auxiliar de...</td>\n",
              "      <td>291</td>\n",
              "      <td>1395466428409651202</td>\n",
              "      <td>2021-05-20 19:48:17</td>\n",
              "      <td>Twitter Web App</td>\n",
              "      <td>299</td>\n",
              "      <td>58</td>\n",
              "      <td>Brasil, Brasília</td>\n",
              "      <td>None</td>\n",
              "      <td>None</td>\n",
              "      <td>hoje dia nacional técnico auxiliar enfermagem ...</td>\n",
              "    </tr>\n",
              "    <tr>\n",
              "      <th>4</th>\n",
              "      <td>Conseguimos o apoio dos senadores p/ votar em ...</td>\n",
              "      <td>274</td>\n",
              "      <td>1394634129854058497</td>\n",
              "      <td>2021-05-18 12:41:02</td>\n",
              "      <td>Twitter Web App</td>\n",
              "      <td>739</td>\n",
              "      <td>71</td>\n",
              "      <td>Vila Velha, Brasil</td>\n",
              "      <td>None</td>\n",
              "      <td>None</td>\n",
              "      <td>conseguimos apoio senadores p/ votar regime ur...</td>\n",
              "    </tr>\n",
              "  </tbody>\n",
              "</table>\n",
              "</div>"
            ],
            "text/plain": [
              "                                              Tweets  ...                                   tweets_ajustados\n",
              "0  A estudante Thais Carvalho está no último ano ...  ...  estudante thais carvalho último ano enfermagem...\n",
              "1  Recentemente, a possibilidade de fechamento do...  ...  recentemente, possibilidade fechamento cursos ...\n",
              "2  Os heróis da enfermagem precisam de reconhecim...  ...  heróis enfermagem precisam reconhecimento! hoj...\n",
              "3  Hoje é o Dia Nacional do Técnico e Auxiliar de...  ...  hoje dia nacional técnico auxiliar enfermagem ...\n",
              "4  Conseguimos o apoio dos senadores p/ votar em ...  ...  conseguimos apoio senadores p/ votar regime ur...\n",
              "\n",
              "[5 rows x 11 columns]"
            ]
          },
          "metadata": {
            "tags": []
          },
          "execution_count": 140
        }
      ]
    },
    {
      "cell_type": "code",
      "metadata": {
        "id": "zkH1NEzGKGF4"
      },
      "source": [
        "cv = CountVectorizer()\n",
        "count_matrix = cv.fit_transform(tweets_df.tweets_ajustados)"
      ],
      "execution_count": null,
      "outputs": []
    },
    {
      "cell_type": "code",
      "metadata": {
        "colab": {
          "base_uri": "https://localhost:8080/"
        },
        "id": "TGiNT8ojKGIS",
        "outputId": "d45ee123-ab98-43e9-d540-69f281300a9c"
      },
      "source": [
        "cv.get_feature_names()"
      ],
      "execution_count": null,
      "outputs": [
        {
          "output_type": "execute_result",
          "data": {
            "text/plain": [
              "['12',\n",
              " '15h',\n",
              " '18',\n",
              " '19',\n",
              " '1962',\n",
              " '1981',\n",
              " '20',\n",
              " '21',\n",
              " '24',\n",
              " '2564',\n",
              " '30h',\n",
              " '76',\n",
              " '81',\n",
              " 'acompanhe',\n",
              " 'aconteceu',\n",
              " 'agenda',\n",
              " 'agora',\n",
              " 'além',\n",
              " 'amazonas',\n",
              " 'ano',\n",
              " 'anote',\n",
              " 'apenas',\n",
              " 'apoio',\n",
              " 'aprovapl2564',\n",
              " 'aprovação',\n",
              " 'artigo',\n",
              " 'assinando',\n",
              " 'atravessa',\n",
              " 'atua',\n",
              " 'atuava',\n",
              " 'auxiliar',\n",
              " 'auxiliardeenfermagem',\n",
              " 'bahia',\n",
              " 'bancada',\n",
              " 'binacional',\n",
              " 'bloco',\n",
              " 'brasileiras',\n",
              " 'brasília',\n",
              " 'campanha',\n",
              " 'campus',\n",
              " 'capitais',\n",
              " 'carga',\n",
              " 'carreata',\n",
              " 'carvalho',\n",
              " 'caso',\n",
              " 'categoria',\n",
              " 'choque',\n",
              " 'cidade',\n",
              " 'cidades',\n",
              " 'cocheira',\n",
              " 'colocamos',\n",
              " 'combate',\n",
              " 'combú',\n",
              " 'comemoração',\n",
              " 'conseguimos',\n",
              " 'conselho',\n",
              " 'construção',\n",
              " 'continuar',\n",
              " 'contra',\n",
              " 'covid',\n",
              " 'cuidado',\n",
              " 'curso',\n",
              " 'cursos',\n",
              " 'dando',\n",
              " 'deficiência',\n",
              " 'deliberação',\n",
              " 'dessas',\n",
              " 'deste',\n",
              " 'dia',\n",
              " 'diariamente',\n",
              " 'dias',\n",
              " 'dignidade',\n",
              " 'direito',\n",
              " 'direitos',\n",
              " 'discurso',\n",
              " 'disse',\n",
              " 'enfermagem',\n",
              " 'enfermeira',\n",
              " 'enfermeiras',\n",
              " 'enfermeiros',\n",
              " 'entenda',\n",
              " 'entrar',\n",
              " 'esforçam',\n",
              " 'especial',\n",
              " 'essenciais',\n",
              " 'estadao',\n",
              " 'estado',\n",
              " 'estaremos',\n",
              " 'estratégicos',\n",
              " 'estudante',\n",
              " 'fechamento',\n",
              " 'federal',\n",
              " 'fio',\n",
              " 'fiquei',\n",
              " 'forças',\n",
              " 'frente',\n",
              " 'g1',\n",
              " 'garante',\n",
              " 'garantir',\n",
              " 'gomes',\n",
              " 'gratidão',\n",
              " 'gt',\n",
              " 'heroínas',\n",
              " 'heróis',\n",
              " 'hoje',\n",
              " 'homem',\n",
              " 'horária',\n",
              " 'ilha',\n",
              " 'ilhéus',\n",
              " 'impactou',\n",
              " 'individualmente',\n",
              " 'inimigo',\n",
              " 'institui',\n",
              " 'início',\n",
              " 'iranduba',\n",
              " 'irrestrito',\n",
              " 'ivone',\n",
              " 'janeiro',\n",
              " 'jornada',\n",
              " 'juntos',\n",
              " 'justa',\n",
              " 'já',\n",
              " 'larissa',\n",
              " 'lei',\n",
              " 'leitura',\n",
              " 'levar',\n",
              " 'linha',\n",
              " 'luta',\n",
              " 'manhã',\n",
              " 'manutenção',\n",
              " 'meio',\n",
              " 'merecem',\n",
              " 'milhares',\n",
              " 'milhão',\n",
              " 'minsaude',\n",
              " 'mobilizados',\n",
              " 'mobilizou',\n",
              " 'movimentados',\n",
              " 'movimento',\n",
              " 'nacional',\n",
              " 'nascidas',\n",
              " 'negra',\n",
              " 'nesta',\n",
              " 'neste',\n",
              " 'nossa',\n",
              " 'novo',\n",
              " 'oeiras',\n",
              " 'oiapoque',\n",
              " 'pacheco',\n",
              " 'pacientes',\n",
              " 'palmas',\n",
              " 'pandemia',\n",
              " 'parabeniza',\n",
              " 'partir',\n",
              " 'passou',\n",
              " 'paulo',\n",
              " 'pauta',\n",
              " 'permanente',\n",
              " 'pessoas',\n",
              " 'piauí',\n",
              " 'piso',\n",
              " 'pl',\n",
              " 'pl2564',\n",
              " 'pl2564sim',\n",
              " 'pneu',\n",
              " 'poa',\n",
              " 'pontos',\n",
              " 'possibilidade',\n",
              " 'precisam',\n",
              " 'preciso',\n",
              " 'presidente',\n",
              " 'profissionais',\n",
              " 'projeto',\n",
              " 'projeções',\n",
              " 'promovida',\n",
              " 'proposta',\n",
              " 'próxima',\n",
              " 'quer',\n",
              " 'racismo',\n",
              " 'realizando',\n",
              " 'receber',\n",
              " 'recebi',\n",
              " 'recentemente',\n",
              " 'reconhecimento',\n",
              " 'recursos',\n",
              " 'recusa',\n",
              " 'regime',\n",
              " 'regional',\n",
              " 'regulamenta',\n",
              " 'relatório',\n",
              " 'representante',\n",
              " 'requerimento',\n",
              " 'ribeirinhos',\n",
              " 'rio',\n",
              " 'rodrigo',\n",
              " 'rpsenador',\n",
              " 'salarial',\n",
              " 'salvar',\n",
              " 'sandro',\n",
              " 'saúde',\n",
              " 'segue',\n",
              " 'seguimos',\n",
              " 'segundafeira',\n",
              " 'segurança',\n",
              " 'semana',\n",
              " 'senado',\n",
              " 'senadofederal',\n",
              " 'senadores',\n",
              " 'senhor',\n",
              " 'sessão',\n",
              " 'sindisaude',\n",
              " 'suficientes',\n",
              " 'sul',\n",
              " 'sábado',\n",
              " 'tecnicodeenfermagem',\n",
              " 'terça',\n",
              " 'terçafeira',\n",
              " 'texto',\n",
              " 'thais',\n",
              " 'thaís',\n",
              " 'toda',\n",
              " 'todos',\n",
              " 'torcendo',\n",
              " 'trabalhistas',\n",
              " 'trabalho',\n",
              " 'três',\n",
              " 'tv',\n",
              " 'técnica',\n",
              " 'técnico',\n",
              " 'técnicos',\n",
              " 'unifap',\n",
              " 'uolnews',\n",
              " 'urgência',\n",
              " 'vacina',\n",
              " 'vacinando',\n",
              " 'vacinação',\n",
              " 'valorizar',\n",
              " 'valorizeaenfermagem',\n",
              " 'vamos',\n",
              " 'vereadora',\n",
              " 'vidas',\n",
              " 'vivo',\n",
              " 'voluntária',\n",
              " 'votar',\n",
              " 'vítima',\n",
              " 'youtube',\n",
              " 'último']"
            ]
          },
          "metadata": {
            "tags": []
          },
          "execution_count": 142
        }
      ]
    },
    {
      "cell_type": "markdown",
      "metadata": {
        "id": "Fv4UAjlR4cq3"
      },
      "source": [
        "**Analisando alguns dados dos Tweets**"
      ]
    },
    {
      "cell_type": "code",
      "metadata": {
        "id": "ry_ru0916F22"
      },
      "source": [
        "\n",
        "\n",
        "def clean_tweet(tweet):\n",
        "    return ' '.join(re.sub(\"(@[A-Za-z0-9]+)|([^0-9A-Za-z \\t])|(\\w+:\\/\\/\\S+)\", \" \", tweet).split())\n",
        "\n",
        "\n",
        "def sentiment(tweet):\n",
        "    \n",
        "    polarity = 0\n",
        "    \n",
        "    #blob = TextBlob(tweet, classifier=cl)\n",
        "    blob = TextBlob(clean_tweet(tweet), classifier=cl) #Clean Tweets\n",
        "    \n",
        "    for s in blob.sentences:\n",
        "        polarity = s.classify() + polarity\n",
        "    \n",
        "    if polarity > 0:\n",
        "        return 1\n",
        "    elif polarity < 0:\n",
        "        return -1\n",
        "    else:\n",
        "        return 0"
      ],
      "execution_count": null,
      "outputs": []
    },
    {
      "cell_type": "code",
      "metadata": {
        "colab": {
          "base_uri": "https://localhost:8080/"
        },
        "id": "mVFSWV0j4hwP",
        "outputId": "50afb3c5-9d70-4d86-c9f5-a973726ae6c0"
      },
      "source": [
        "\n",
        "# Top Searched Tweets\n",
        "fav_max = np.max(tweets_df['Likes'])\n",
        "rt_max  = np.max(tweets_df['RTs'])\n",
        "\n",
        "fav = tweets_df[tweets_df.Likes == fav_max].index[0]\n",
        "rt  = tweets_df[tweets_df.RTs == rt_max].index[0]\n",
        "\n",
        "# Max FAVs:\n",
        "print(\"O tweet com mais curtidas é: \\n{}\".format(tweets_df['Tweets'][fav]))\n",
        "print(\"Número de curtidas: {}\".format(fav_max))\n",
        "print(\"\\n\")\n",
        "# Max RTs:\n",
        "print(\"O tweet com mais retweet é: \\n{}\".format(tweets_df['Tweets'][rt]))\n",
        "print(\"Número de retweets: {}\".format(rt_max))"
      ],
      "execution_count": null,
      "outputs": [
        {
          "output_type": "stream",
          "text": [
            "O tweet com mais curtidas é: \n",
            "A estudante Thais Carvalho está no último ano de enfermagem e atua como voluntária na campanha de vacinação. \"Fiquei em estado de choque\", disse https://t.co/QWgsag3Ddb\n",
            "Número de curtidas: 2269\n",
            "\n",
            "\n",
            "O tweet com mais retweet é: \n",
            "A estudante Thais Carvalho está no último ano de enfermagem e atua como voluntária na campanha de vacinação. \"Fiquei em estado de choque\", disse https://t.co/QWgsag3Ddb\n",
            "Número de retweets: 463\n"
          ],
          "name": "stdout"
        }
      ]
    },
    {
      "cell_type": "markdown",
      "metadata": {
        "id": "3OdrRNIuyMji"
      },
      "source": [
        "**Fazendo a contagem de palavras**\n"
      ]
    },
    {
      "cell_type": "code",
      "metadata": {
        "colab": {
          "base_uri": "https://localhost:8080/",
          "height": 419
        },
        "id": "y6ZgSxD5KGK8",
        "outputId": "48ded807-b975-4d90-ca26-7ed99d3d2418"
      },
      "source": [
        "word_count = pd.DataFrame(cv.get_feature_names(),columns=[\"word\"])\n",
        "\n",
        "word_count[\"contagem\"] = count_matrix.sum(axis = 0).tolist()[0]\n",
        "word_count = word_count.sort_values(\"contagem\",ascending = False).reset_index(drop=True)\n",
        "word_count"
      ],
      "execution_count": null,
      "outputs": [
        {
          "output_type": "execute_result",
          "data": {
            "text/html": [
              "<div>\n",
              "<style scoped>\n",
              "    .dataframe tbody tr th:only-of-type {\n",
              "        vertical-align: middle;\n",
              "    }\n",
              "\n",
              "    .dataframe tbody tr th {\n",
              "        vertical-align: top;\n",
              "    }\n",
              "\n",
              "    .dataframe thead th {\n",
              "        text-align: right;\n",
              "    }\n",
              "</style>\n",
              "<table border=\"1\" class=\"dataframe\">\n",
              "  <thead>\n",
              "    <tr style=\"text-align: right;\">\n",
              "      <th></th>\n",
              "      <th>word</th>\n",
              "      <th>contagem</th>\n",
              "    </tr>\n",
              "  </thead>\n",
              "  <tbody>\n",
              "    <tr>\n",
              "      <th>0</th>\n",
              "      <td>enfermagem</td>\n",
              "      <td>17</td>\n",
              "    </tr>\n",
              "    <tr>\n",
              "      <th>1</th>\n",
              "      <td>dia</td>\n",
              "      <td>6</td>\n",
              "    </tr>\n",
              "    <tr>\n",
              "      <th>2</th>\n",
              "      <td>profissionais</td>\n",
              "      <td>5</td>\n",
              "    </tr>\n",
              "    <tr>\n",
              "      <th>3</th>\n",
              "      <td>salarial</td>\n",
              "      <td>5</td>\n",
              "    </tr>\n",
              "    <tr>\n",
              "      <th>4</th>\n",
              "      <td>piso</td>\n",
              "      <td>4</td>\n",
              "    </tr>\n",
              "    <tr>\n",
              "      <th>...</th>\n",
              "      <td>...</td>\n",
              "      <td>...</td>\n",
              "    </tr>\n",
              "    <tr>\n",
              "      <th>242</th>\n",
              "      <td>garante</td>\n",
              "      <td>1</td>\n",
              "    </tr>\n",
              "    <tr>\n",
              "      <th>243</th>\n",
              "      <td>gratidão</td>\n",
              "      <td>1</td>\n",
              "    </tr>\n",
              "    <tr>\n",
              "      <th>244</th>\n",
              "      <td>gt</td>\n",
              "      <td>1</td>\n",
              "    </tr>\n",
              "    <tr>\n",
              "      <th>245</th>\n",
              "      <td>heroínas</td>\n",
              "      <td>1</td>\n",
              "    </tr>\n",
              "    <tr>\n",
              "      <th>246</th>\n",
              "      <td>lei</td>\n",
              "      <td>1</td>\n",
              "    </tr>\n",
              "  </tbody>\n",
              "</table>\n",
              "<p>247 rows × 2 columns</p>\n",
              "</div>"
            ],
            "text/plain": [
              "              word  contagem\n",
              "0       enfermagem        17\n",
              "1              dia         6\n",
              "2    profissionais         5\n",
              "3         salarial         5\n",
              "4             piso         4\n",
              "..             ...       ...\n",
              "242        garante         1\n",
              "243       gratidão         1\n",
              "244             gt         1\n",
              "245       heroínas         1\n",
              "246            lei         1\n",
              "\n",
              "[247 rows x 2 columns]"
            ]
          },
          "metadata": {
            "tags": []
          },
          "execution_count": 143
        }
      ]
    },
    {
      "cell_type": "code",
      "metadata": {
        "colab": {
          "base_uri": "https://localhost:8080/",
          "height": 269
        },
        "id": "ODHgcAaxKGNP",
        "outputId": "c2c6d8b4-e207-439e-ebb6-f2b0f901c5be"
      },
      "source": [
        "stopwords = set(nltk.corpus.stopwords.words('portuguese'))\n",
        "\n",
        "words = ' '.join(tweets_df['Tweets'])\n",
        "\n",
        "words_clean = \" \".join([word for word in words.split()\n",
        "                            if 'https' not in word\n",
        "                                and not word.startswith('@')\n",
        "                                and word != 'RT'\n",
        "                            ])\n",
        "\n",
        "wc = WordCloud(min_font_size=10, \n",
        "               max_font_size=300, \n",
        "               background_color='white', \n",
        "               mode=\"RGB\",\n",
        "               stopwords=stopwords,\n",
        "               width=3000, \n",
        "               height=2000,\n",
        "               normalize_plurals= True).generate(words_clean)\n",
        "\n",
        "plt.imshow(wc, interpolation=\"bilinear\")\n",
        "plt.show()"
      ],
      "execution_count": null,
      "outputs": [
        {
          "output_type": "display_data",
          "data": {
            "image/png": "[encoded data removed]",
            "text/plain": [
              "<Figure size 432x288 with 1 Axes>"
            ]
          },
          "metadata": {
            "tags": [],
            "needs_background": "light"
          }
        }
      ]
    },
    {
      "cell_type": "code",
      "metadata": {
        "id": "RCDt3MCzKGPx"
      },
      "source": [
        ""
      ],
      "execution_count": null,
      "outputs": []
    }
  ]
}